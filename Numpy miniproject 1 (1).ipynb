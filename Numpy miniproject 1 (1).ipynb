{
 "cells": [
  {
   "cell_type": "markdown",
   "id": "30a46b17",
   "metadata": {},
   "source": [
    "# Mini Project"
   ]
  },
  {
   "cell_type": "code",
   "execution_count": 40,
   "id": "1f9891c6",
   "metadata": {},
   "outputs": [],
   "source": [
    "import numpy as np"
   ]
  },
  {
   "cell_type": "markdown",
   "id": "8b830abc",
   "metadata": {},
   "source": [
    "Read the Data!"
   ]
  },
  {
   "cell_type": "code",
   "execution_count": 41,
   "id": "0447a4b7",
   "metadata": {},
   "outputs": [],
   "source": [
    "data_file ='makeSenseOfCensus.csv'"
   ]
  },
  {
   "cell_type": "markdown",
   "id": "af62a158",
   "metadata": {},
   "source": [
    "Loading the data"
   ]
  },
  {
   "cell_type": "code",
   "execution_count": 42,
   "id": "e84f2312",
   "metadata": {},
   "outputs": [
    {
     "name": "stdout",
     "output_type": "stream",
     "text": [
      "\n",
      "Data: \n",
      "\n",
      " [[39. 13.  4. ...  0. 40.  0.]\n",
      " [50. 13.  4. ...  0. 13.  0.]\n",
      " [38.  9.  4. ...  0. 40.  0.]\n",
      " ...\n",
      " [48. 13.  4. ...  0. 58.  1.]\n",
      " [40. 10.  4. ...  0. 40.  0.]\n",
      " [39. 13.  4. ...  0. 50.  1.]]\n"
     ]
    }
   ],
   "source": [
    "\n",
    "data = np.genfromtxt(data_file, delimiter=\",\", skip_header=1)\n",
    "\n",
    "\n",
    "\n",
    "print(\"\\nData: \\n\\n\", data)"
   ]
  },
  {
   "cell_type": "markdown",
   "id": "76f1d395",
   "metadata": {},
   "source": [
    "Printing the type of data"
   ]
  },
  {
   "cell_type": "code",
   "execution_count": 43,
   "id": "f900b1e5",
   "metadata": {
    "scrolled": true
   },
   "outputs": [
    {
     "name": "stdout",
     "output_type": "stream",
     "text": [
      "\n",
      "Type of data: \n",
      "\n",
      " <class 'numpy.ndarray'>\n"
     ]
    }
   ],
   "source": [
    "print(\"\\nType of data: \\n\\n\", type(data))"
   ]
  },
  {
   "cell_type": "markdown",
   "id": "10075227",
   "metadata": {},
   "source": [
    "# Append the Data"
   ]
  },
  {
   "cell_type": "code",
   "execution_count": 44,
   "id": "fa2a5d98",
   "metadata": {},
   "outputs": [],
   "source": [
    "new_record=[[50, 9, 4, 1, 0, 0, 40, 0]]"
   ]
  },
  {
   "cell_type": "markdown",
   "id": "fc0ccc20",
   "metadata": {},
   "source": [
    " Check if it's a young country or old country"
   ]
  },
  {
   "cell_type": "code",
   "execution_count": 45,
   "id": "7ba452c5",
   "metadata": {},
   "outputs": [],
   "source": [
    "import numpy as np\n",
    "census = np.genfromtxt(data_file, delimiter=\",\", skip_header=1)"
   ]
  },
  {
   "cell_type": "code",
   "execution_count": 46,
   "id": "ff525d14",
   "metadata": {},
   "outputs": [],
   "source": [
    "age = census[:,0]"
   ]
  },
  {
   "cell_type": "code",
   "execution_count": 47,
   "id": "9a393726",
   "metadata": {},
   "outputs": [],
   "source": [
    "max_age = np.max(age)\n",
    "min_age = np.min(age)\n",
    "age_mean = np.mean(age)\n",
    "age_std = np.std(age)"
   ]
  },
  {
   "cell_type": "code",
   "execution_count": 48,
   "id": "6939a484",
   "metadata": {
    "scrolled": true
   },
   "outputs": [
    {
     "data": {
      "text/plain": [
       "array([ True,  True,  True, False, False,  True, False,  True,  True,\n",
       "        True, False, False,  True, False, False, False,  True,  True,\n",
       "        True,  True,  True, False, False,  True,  True,  True,  True,\n",
       "       False,  True,  True,  True, False,  True,  True, False,  True,\n",
       "        True,  True,  True,  True,  True,  True,  True,  True,  True,\n",
       "       False,  True,  True,  True,  True, False,  True,  True,  True,\n",
       "        True,  True,  True,  True,  True,  True,  True,  True,  True,\n",
       "        True,  True,  True,  True,  True,  True,  True,  True, False,\n",
       "        True,  True,  True,  True,  True,  True,  True,  True,  True,\n",
       "        True,  True,  True,  True,  True,  True,  True,  True,  True,\n",
       "        True,  True, False, False,  True,  True,  True,  True,  True,\n",
       "       False,  True,  True,  True,  True,  True,  True,  True,  True,\n",
       "        True,  True,  True,  True,  True,  True,  True,  True,  True,\n",
       "       False,  True,  True,  True,  True, False,  True, False,  True,\n",
       "        True,  True,  True,  True,  True,  True,  True,  True, False,\n",
       "        True,  True,  True,  True, False,  True,  True,  True,  True,\n",
       "        True, False,  True,  True,  True,  True,  True,  True, False,\n",
       "        True,  True,  True,  True, False,  True, False,  True,  True,\n",
       "       False, False,  True,  True,  True,  True,  True,  True,  True,\n",
       "        True,  True,  True,  True,  True, False, False,  True,  True,\n",
       "       False,  True, False,  True,  True, False,  True,  True,  True,\n",
       "        True, False,  True, False,  True,  True,  True,  True,  True,\n",
       "        True,  True,  True,  True,  True,  True,  True,  True, False,\n",
       "        True,  True,  True, False,  True, False, False,  True, False,\n",
       "        True,  True,  True,  True,  True,  True, False, False,  True,\n",
       "        True, False,  True,  True,  True, False, False,  True, False,\n",
       "        True,  True,  True,  True,  True,  True,  True,  True,  True,\n",
       "        True,  True,  True,  True,  True,  True,  True,  True, False,\n",
       "       False,  True,  True, False,  True,  True,  True,  True,  True,\n",
       "        True,  True,  True,  True, False,  True,  True,  True,  True,\n",
       "        True,  True,  True,  True,  True, False,  True,  True,  True,\n",
       "        True,  True,  True, False,  True,  True,  True,  True,  True,\n",
       "        True,  True,  True,  True,  True,  True, False,  True,  True,\n",
       "       False,  True,  True,  True, False,  True,  True, False,  True,\n",
       "        True,  True,  True,  True,  True, False, False, False,  True,\n",
       "        True,  True,  True,  True,  True,  True,  True,  True,  True,\n",
       "        True,  True, False,  True,  True,  True, False,  True,  True,\n",
       "        True,  True,  True,  True,  True, False, False,  True,  True,\n",
       "        True,  True, False,  True,  True,  True,  True,  True,  True,\n",
       "        True,  True,  True,  True,  True, False,  True,  True,  True,\n",
       "        True,  True,  True,  True,  True,  True,  True,  True,  True,\n",
       "        True,  True,  True,  True, False, False,  True,  True,  True,\n",
       "        True,  True,  True,  True,  True,  True,  True,  True,  True,\n",
       "        True,  True,  True,  True,  True,  True,  True,  True,  True,\n",
       "        True,  True,  True,  True,  True,  True,  True,  True, False,\n",
       "        True,  True,  True,  True,  True, False, False,  True,  True,\n",
       "        True,  True,  True,  True, False,  True,  True,  True,  True,\n",
       "        True,  True,  True,  True,  True,  True,  True,  True,  True,\n",
       "        True,  True, False,  True, False,  True,  True,  True,  True,\n",
       "        True,  True,  True,  True,  True, False, False,  True,  True,\n",
       "       False,  True,  True, False,  True, False,  True, False,  True,\n",
       "        True,  True, False,  True,  True,  True,  True,  True,  True,\n",
       "        True,  True,  True,  True,  True,  True,  True,  True,  True,\n",
       "        True,  True,  True,  True,  True,  True,  True, False, False,\n",
       "        True,  True,  True,  True,  True,  True,  True,  True,  True,\n",
       "        True,  True,  True,  True,  True,  True,  True,  True,  True,\n",
       "        True, False,  True,  True, False,  True,  True, False,  True,\n",
       "        True,  True,  True, False,  True,  True,  True,  True,  True,\n",
       "       False,  True,  True,  True,  True,  True,  True,  True, False,\n",
       "        True, False,  True,  True,  True, False,  True,  True, False,\n",
       "        True,  True,  True,  True,  True,  True,  True,  True,  True,\n",
       "        True,  True,  True,  True, False, False,  True,  True,  True,\n",
       "        True,  True,  True,  True,  True, False,  True, False,  True,\n",
       "        True,  True,  True,  True,  True,  True,  True,  True,  True,\n",
       "        True,  True,  True,  True,  True,  True,  True,  True,  True,\n",
       "        True,  True,  True,  True,  True,  True, False,  True,  True,\n",
       "        True,  True, False,  True,  True,  True,  True,  True,  True,\n",
       "        True,  True, False,  True, False, False,  True,  True,  True,\n",
       "        True,  True,  True,  True, False,  True,  True,  True,  True,\n",
       "       False, False,  True,  True, False,  True,  True,  True,  True,\n",
       "       False, False,  True, False,  True,  True,  True,  True,  True,\n",
       "        True,  True,  True,  True,  True,  True,  True,  True,  True,\n",
       "        True,  True,  True,  True, False,  True,  True, False,  True,\n",
       "        True,  True,  True, False,  True,  True,  True,  True,  True,\n",
       "        True, False, False,  True,  True,  True,  True,  True,  True,\n",
       "        True,  True,  True,  True,  True,  True,  True,  True, False,\n",
       "        True,  True,  True,  True,  True,  True,  True, False,  True,\n",
       "        True,  True,  True,  True,  True,  True,  True,  True,  True,\n",
       "        True,  True,  True,  True, False, False,  True,  True,  True,\n",
       "       False,  True,  True,  True, False,  True,  True,  True,  True,\n",
       "        True,  True,  True,  True,  True,  True,  True,  True,  True,\n",
       "        True,  True, False,  True,  True, False,  True, False,  True,\n",
       "       False,  True,  True,  True,  True,  True,  True,  True,  True,\n",
       "       False, False,  True,  True,  True,  True,  True,  True,  True,\n",
       "        True,  True,  True, False,  True,  True,  True,  True,  True,\n",
       "        True,  True,  True,  True,  True,  True,  True,  True,  True,\n",
       "        True,  True,  True,  True,  True,  True,  True,  True,  True,\n",
       "        True, False, False,  True,  True,  True,  True,  True,  True,\n",
       "        True,  True,  True, False,  True, False,  True,  True,  True,\n",
       "       False,  True,  True,  True,  True,  True,  True,  True,  True,\n",
       "        True, False,  True,  True,  True,  True,  True,  True,  True,\n",
       "        True,  True,  True,  True,  True,  True,  True,  True,  True,\n",
       "        True,  True,  True,  True,  True,  True,  True,  True,  True,\n",
       "        True,  True,  True,  True,  True,  True,  True,  True,  True,\n",
       "        True,  True,  True,  True,  True,  True,  True,  True,  True,\n",
       "        True,  True,  True,  True,  True,  True,  True,  True,  True,\n",
       "        True,  True,  True,  True,  True,  True,  True,  True,  True,\n",
       "       False, False,  True, False,  True,  True,  True,  True,  True,\n",
       "        True,  True,  True,  True,  True,  True, False,  True, False,\n",
       "        True, False,  True,  True,  True,  True,  True,  True,  True,\n",
       "        True,  True,  True, False,  True,  True,  True, False,  True,\n",
       "        True,  True,  True,  True,  True, False,  True, False, False,\n",
       "        True,  True,  True,  True,  True, False,  True,  True,  True,\n",
       "        True,  True,  True,  True,  True,  True,  True,  True,  True,\n",
       "        True,  True,  True,  True, False, False,  True,  True,  True,\n",
       "       False,  True,  True,  True,  True,  True,  True, False,  True,\n",
       "        True,  True,  True,  True,  True,  True,  True,  True,  True,\n",
       "        True,  True,  True,  True,  True, False,  True,  True,  True,\n",
       "        True,  True,  True,  True,  True,  True, False,  True,  True,\n",
       "        True, False,  True,  True,  True, False,  True,  True,  True,\n",
       "        True,  True,  True,  True,  True,  True,  True,  True,  True,\n",
       "        True])"
      ]
     },
     "execution_count": 48,
     "metadata": {},
     "output_type": "execute_result"
    }
   ],
   "source": [
    "census[:,2]==4"
   ]
  },
  {
   "cell_type": "code",
   "execution_count": 49,
   "id": "b0d0c1d9",
   "metadata": {},
   "outputs": [],
   "source": [
    "import numpy as np\n",
    "census = np.genfromtxt(data_file, delimiter=\",\", skip_header=1)"
   ]
  },
  {
   "cell_type": "markdown",
   "id": "98a93a89",
   "metadata": {},
   "source": [
    "check the country's race distribution to identify the minorities¶"
   ]
  },
  {
   "cell_type": "code",
   "execution_count": 50,
   "id": "639a18a8",
   "metadata": {},
   "outputs": [],
   "source": [
    "race = census[:,0]"
   ]
  },
  {
   "cell_type": "code",
   "execution_count": 51,
   "id": "4513ce8d",
   "metadata": {},
   "outputs": [],
   "source": [
    "race_4 = census[census[:,2]==4, :]"
   ]
  },
  {
   "cell_type": "code",
   "execution_count": 52,
   "id": "f7cef826",
   "metadata": {},
   "outputs": [],
   "source": [
    "minority_race_number = np.min(race)"
   ]
  },
  {
   "cell_type": "code",
   "execution_count": 53,
   "id": "f893957a",
   "metadata": {},
   "outputs": [],
   "source": [
    "minority_race = list(race).index(minority_race_number)"
   ]
  },
  {
   "cell_type": "code",
   "execution_count": 54,
   "id": "affad470",
   "metadata": {
    "scrolled": true
   },
   "outputs": [
    {
     "name": "stdout",
     "output_type": "stream",
     "text": [
      "AVERAGE WORKING HOURS :  31.42622950819672\n",
      "Govt. regulations not being followed\n"
     ]
    }
   ],
   "source": [
    "senior_citizens = data[age>60]\n",
    "working_hours_sum = sum(senior_citizens[:,6])\n",
    "senior_citizens_len = senior_citizens.shape[0]\n",
    "avg_working_hours = working_hours_sum/senior_citizens_len\n",
    "\n",
    "print(\"AVERAGE WORKING HOURS : \", avg_working_hours)\n",
    "if avg_working_hours>25:\n",
    "    \n",
    "    print(\"Govt. regulations not being followed\")\n",
    "    \n",
    "elif avg_working_hours<=25:\n",
    "    print(\"Govt. regulations are being followed\")\n"
   ]
  },
  {
   "cell_type": "markdown",
   "id": "58ce529b",
   "metadata": {},
   "source": [
    "# check that higher educated people have better pay in general"
   ]
  },
  {
   "cell_type": "code",
   "execution_count": 55,
   "id": "e87523c2",
   "metadata": {},
   "outputs": [
    {
     "name": "stdout",
     "output_type": "stream",
     "text": [
      "AVERAGE PAY OF HIGHLY EDUCATED :  0.42813455657492355 \n",
      "AVERAGE PAY WITH LOW EDUCATION :  0.13670133729569092\n"
     ]
    }
   ],
   "source": [
    "high = census[census[:,1]>10]\n",
    "\n",
    "low = census[census[:,1]<=10]\n",
    "\n",
    "avg_pay_high = np.mean(high[:,7])\n",
    "avg_pay_low = np.mean(low[:,7])\n",
    "\n",
    "print(\"AVERAGE PAY OF HIGHLY EDUCATED : \", avg_pay_high ,\"\\nAVERAGE PAY WITH LOW EDUCATION : \", avg_pay_low)\n",
    "  \n"
   ]
  },
  {
   "cell_type": "code",
   "execution_count": 56,
   "id": "d7b58737",
   "metadata": {},
   "outputs": [
    {
     "data": {
      "text/plain": [
       "True"
      ]
     },
     "execution_count": 56,
     "metadata": {},
     "output_type": "execute_result"
    }
   ],
   "source": [
    "avg_pay_high = np.mean(high[:,7])\n",
    "avg_pay_low = np.mean(low[:,7])\n",
    "avg_pay_high > avg_pay_low\n",
    "\n"
   ]
  },
  {
   "cell_type": "code",
   "execution_count": null,
   "id": "17b510df",
   "metadata": {},
   "outputs": [],
   "source": []
  }
 ],
 "metadata": {
  "kernelspec": {
   "display_name": "Python 3",
   "language": "python",
   "name": "python3"
  },
  "language_info": {
   "codemirror_mode": {
    "name": "ipython",
    "version": 3
   },
   "file_extension": ".py",
   "mimetype": "text/x-python",
   "name": "python",
   "nbconvert_exporter": "python",
   "pygments_lexer": "ipython3",
   "version": "3.8.8"
  }
 },
 "nbformat": 4,
 "nbformat_minor": 5
}
