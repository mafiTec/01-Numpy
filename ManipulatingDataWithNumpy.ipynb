{
 "cells": [
  {
   "cell_type": "markdown",
   "id": "95fe38cc",
   "metadata": {},
   "source": [
    "# Manipulating Data with NumPy\n",
    "\n",
    " Introduction to NumPy"
   ]
  },
  {
   "cell_type": "code",
   "execution_count": 5,
   "id": "aaa35c8d",
   "metadata": {},
   "outputs": [
    {
     "name": "stdout",
     "output_type": "stream",
     "text": [
      "[ 20 210 100  10]\n"
     ]
    }
   ],
   "source": [
    "lst = [10, 200, 90, 0]\n",
    "\n",
    "import numpy as np\n",
    "arr = np.array(lst)\n",
    "\n",
    "print(arr + 10)"
   ]
  },
  {
   "cell_type": "code",
   "execution_count": 2,
   "id": "c3fc1df0",
   "metadata": {},
   "outputs": [
    {
     "name": "stdout",
     "output_type": "stream",
     "text": [
      "16\n",
      "88\n"
     ]
    }
   ],
   "source": [
    "lst = [22, 45, 78, 50]\n",
    "\n",
    "import numpy as np\n",
    "import sys\n",
    "arr = np.array(lst)\n",
    "print(arr.nbytes)\n",
    "print(sys.getsizeof(lst))"
   ]
  },
  {
   "cell_type": "markdown",
   "id": "93de35e5",
   "metadata": {},
   "source": [
    "# NumPy Object Creation\n",
    "Array Creation"
   ]
  },
  {
   "cell_type": "code",
   "execution_count": 3,
   "id": "eae3aeef",
   "metadata": {},
   "outputs": [
    {
     "name": "stdout",
     "output_type": "stream",
     "text": [
      "[1 2 3 4]\n",
      "----\n",
      "[[1 2 3 4]\n",
      " [5 6 7 8]]\n"
     ]
    }
   ],
   "source": [
    "import numpy as np\n",
    "a = np.array([1,2,3,4])               # creates a 1-dimensional array\n",
    "b = np.array([[1,2,3,4], [5,6,7,8]])    # creates a 2-dimensional array\n",
    "print(a)\n",
    "print('----')\n",
    "print(b)"
   ]
  },
  {
   "cell_type": "markdown",
   "id": "6fa05722",
   "metadata": {},
   "source": [
    "# Useful Functions"
   ]
  },
  {
   "cell_type": "code",
   "execution_count": 4,
   "id": "75799195",
   "metadata": {},
   "outputs": [
    {
     "name": "stdout",
     "output_type": "stream",
     "text": [
      "The shape of the array a is  (4,)\n",
      "The shape of the array b is (2, 4)\n"
     ]
    }
   ],
   "source": [
    "import numpy as np\n",
    "a = np.array([1,2,3,4])\n",
    "b = np.array([[1,2,3,4,],[5,6,7,8]])\n",
    "\n",
    "print('The shape of the array a is ', a.shape)\n",
    "print('The shape of the array b is', b.shape)"
   ]
  },
  {
   "cell_type": "code",
   "execution_count": 5,
   "id": "86a3d979",
   "metadata": {},
   "outputs": [
    {
     "name": "stdout",
     "output_type": "stream",
     "text": [
      "The dimensions of array a is 1\n",
      "Thae dimensions of array b is 2\n"
     ]
    }
   ],
   "source": [
    "print('The dimensions of array a is', a.ndim)\n",
    "print('Thae dimensions of array b is', b.ndim)"
   ]
  },
  {
   "cell_type": "code",
   "execution_count": 6,
   "id": "c443e821",
   "metadata": {},
   "outputs": [
    {
     "name": "stdout",
     "output_type": "stream",
     "text": [
      "The size of the array a is 4\n",
      "The size of the array b is 8\n"
     ]
    }
   ],
   "source": [
    "print('The size of the array a is', a.size)\n",
    "print('The size of the array b is', b.size)"
   ]
  },
  {
   "cell_type": "code",
   "execution_count": 7,
   "id": "5a2d2449",
   "metadata": {},
   "outputs": [
    {
     "name": "stdout",
     "output_type": "stream",
     "text": [
      "The datatype of the array a is int32\n",
      "The datatype of the array b is int32\n"
     ]
    }
   ],
   "source": [
    "print('The datatype of the array a is', a.dtype)\n",
    "print('The datatype of the array b is',b.dtype)"
   ]
  },
  {
   "cell_type": "code",
   "execution_count": 9,
   "id": "2b6694d2",
   "metadata": {},
   "outputs": [
    {
     "name": "stdout",
     "output_type": "stream",
     "text": [
      "The number of bytes in each elemnt of the array a is  4\n",
      "The number of bytes in each elemnt of the array b is 4\n"
     ]
    }
   ],
   "source": [
    "print('The number of bytes in each elemnt of the array a is ', a.itemsize)\n",
    "print('The number of bytes in each elemnt of the array b is', b.itemsize)"
   ]
  },
  {
   "cell_type": "markdown",
   "id": "501fd860",
   "metadata": {},
   "source": [
    "#  Matrix Creation"
   ]
  },
  {
   "cell_type": "code",
   "execution_count": 10,
   "id": "9ccc3933",
   "metadata": {},
   "outputs": [
    {
     "name": "stdout",
     "output_type": "stream",
     "text": [
      "[[ 5  6  8]\n",
      " [45 12 52]]\n"
     ]
    }
   ],
   "source": [
    "print(np.array([5,6,8,45,12,52]).reshape(2,3))"
   ]
  },
  {
   "cell_type": "code",
   "execution_count": 11,
   "id": "905d1693",
   "metadata": {},
   "outputs": [
    {
     "name": "stdout",
     "output_type": "stream",
     "text": [
      "[[1 2]\n",
      " [3 4]]\n"
     ]
    }
   ],
   "source": [
    "print(np.matrix([[1,2],[3,4]]))"
   ]
  },
  {
   "cell_type": "code",
   "execution_count": 12,
   "id": "80065af0",
   "metadata": {},
   "outputs": [
    {
     "name": "stdout",
     "output_type": "stream",
     "text": [
      "[[1. 0. 0.]\n",
      " [0. 1. 0.]\n",
      " [0. 0. 1.]]\n"
     ]
    }
   ],
   "source": [
    "print(np.eye(3))"
   ]
  },
  {
   "cell_type": "code",
   "execution_count": 13,
   "id": "412baa8c",
   "metadata": {},
   "outputs": [
    {
     "name": "stdout",
     "output_type": "stream",
     "text": [
      "[[0. 0. 0.]\n",
      " [0. 0. 0.]\n",
      " [0. 0. 0.]\n",
      " [0. 0. 0.]]\n"
     ]
    }
   ],
   "source": [
    "print( np.zeros( (4,3)))"
   ]
  },
  {
   "cell_type": "code",
   "execution_count": 14,
   "id": "c81beb16",
   "metadata": {},
   "outputs": [
    {
     "name": "stdout",
     "output_type": "stream",
     "text": [
      "[[1. 1. 1.]\n",
      " [1. 1. 1.]\n",
      " [1. 1. 1.]]\n"
     ]
    }
   ],
   "source": [
    "print(np.ones( (3,3), dtype = np.float64))"
   ]
  },
  {
   "cell_type": "code",
   "execution_count": 15,
   "id": "85664c27",
   "metadata": {},
   "outputs": [
    {
     "name": "stdout",
     "output_type": "stream",
     "text": [
      "[ 1  2  3  4  5  6  7  8  9 10 11 12 13 14 15 16 17 18 19]\n"
     ]
    }
   ],
   "source": [
    "print(np.arange(1,20,dtype = 'int32'))"
   ]
  },
  {
   "cell_type": "code",
   "execution_count": 17,
   "id": "cd1ce76d",
   "metadata": {},
   "outputs": [
    {
     "name": "stdout",
     "output_type": "stream",
     "text": [
      "[ 1  3  5  7  9 11 13 15 17 19]\n"
     ]
    }
   ],
   "source": [
    "print(np.arange(1,20,2,dtype='int8'))"
   ]
  },
  {
   "cell_type": "markdown",
   "id": "e977b495",
   "metadata": {},
   "source": [
    "# (Practice Exercise)\n"
   ]
  },
  {
   "cell_type": "code",
   "execution_count": 6,
   "id": "a5ed1893",
   "metadata": {},
   "outputs": [
    {
     "name": "stdout",
     "output_type": "stream",
     "text": [
      "[20 30 40] [0 2 4]\n"
     ]
    }
   ],
   "source": [
    "import numpy.random as r\n",
    "import numpy as np\n",
    "\n",
    "Marks = np.array([20, 30, 40])\n",
    "IDs = np.array([0,2,4])  \n",
    "print(Marks,IDs)\n",
    "\n",
    " \n",
    "\n"
   ]
  },
  {
   "cell_type": "code",
   "execution_count": 7,
   "id": "13eee97d",
   "metadata": {},
   "outputs": [
    {
     "name": "stdout",
     "output_type": "stream",
     "text": [
      "[0.3257328  0.52335863 0.88753241 0.03744571 0.91310975 0.31432486]\n"
     ]
    }
   ],
   "source": [
    "arr1 = np.array([25,56,12,85,34,75])\n",
    "arr2 = np.array([42,3,86,856,46])\n",
    "\n",
    "Narr = np.random.rand(arr1.shape[0])\n",
    "print(Narr)\n",
    " "
   ]
  },
  {
   "cell_type": "code",
   "execution_count": 14,
   "id": "0a53dbb0",
   "metadata": {},
   "outputs": [
    {
     "name": "stdout",
     "output_type": "stream",
     "text": [
      "[25.+0.j 56.+0.j 12.+0.j 85.+0.j 34.+0.j 75.+0.j]\n"
     ]
    }
   ],
   "source": [
    "arr1= arr1.astype(complex)\n",
    "print(arr1)"
   ]
  },
  {
   "cell_type": "markdown",
   "id": "63ffe2d5",
   "metadata": {},
   "source": [
    "# Indexing and Slicing"
   ]
  },
  {
   "cell_type": "code",
   "execution_count": 4,
   "id": "b59cbf7e",
   "metadata": {},
   "outputs": [
    {
     "name": "stdout",
     "output_type": "stream",
     "text": [
      "8\n",
      "=====\n",
      "[[1 2]\n",
      " [4 5]]\n",
      "====\n",
      "[7 8 9]\n"
     ]
    }
   ],
   "source": [
    "a = np.array([[1,2,3],[4,5,6],[7,8,9]])\n",
    "\n",
    "print(a[2][1])\n",
    "print('=====')\n",
    "print(a[:2,:2])\n",
    "print('====')\n",
    "print(a[2,:])"
   ]
  },
  {
   "cell_type": "markdown",
   "id": "3ec13f84",
   "metadata": {},
   "source": [
    "# Integer Array Indexing"
   ]
  },
  {
   "cell_type": "code",
   "execution_count": 5,
   "id": "0f387410",
   "metadata": {},
   "outputs": [
    {
     "name": "stdout",
     "output_type": "stream",
     "text": [
      "[1 4 5]\n",
      "====\n",
      "[1 4 5]\n",
      "====\n",
      "[2 2]\n",
      "====\n",
      "[2 2]\n"
     ]
    }
   ],
   "source": [
    "a=np.array([[1,2],[3,4],[5,6]])\n",
    "print(a[[0,1,2],[0,1,0]])\n",
    "print('====')\n",
    "\n",
    "print(np.array([a[0,0],a[1,1],a[2,0]]))\n",
    "print('====')\n",
    "\n",
    "print(a[[0,0],[1,1]])\n",
    "print('====')\n",
    "\n",
    "print(np.array([a[0,1],a[0,1]]))"
   ]
  },
  {
   "cell_type": "markdown",
   "id": "1a74a5a0",
   "metadata": {},
   "source": [
    "# Boolean Indexing"
   ]
  },
  {
   "cell_type": "code",
   "execution_count": 6,
   "id": "d8fd461b",
   "metadata": {},
   "outputs": [
    {
     "name": "stdout",
     "output_type": "stream",
     "text": [
      "[[ True  True False]\n",
      " [False  True  True]\n",
      " [ True False False]]\n",
      "[4 7 5 7 7]\n"
     ]
    }
   ],
   "source": [
    "a = np.array([[4,7,1],[2,5,7],[7,1,1]])\n",
    "mask = a > 3\n",
    "print(mask)\n",
    "\n",
    "print(a[mask])"
   ]
  },
  {
   "cell_type": "markdown",
   "id": "79f4362d",
   "metadata": {},
   "source": [
    "# Practice Exercise\n",
    "Create an array with values 3, 4.5, 3 + 5j and 0. Check the values are real or imaginary"
   ]
  },
  {
   "cell_type": "code",
   "execution_count": 15,
   "id": "91e1674a",
   "metadata": {},
   "outputs": [
    {
     "name": "stdout",
     "output_type": "stream",
     "text": [
      "[3. +0.j 4.5+0.j 3. +5.j 0. +0.j]\n",
      "[ True  True False  True]\n",
      "[False False  True False]\n"
     ]
    }
   ],
   "source": [
    "# practice Exersise \n",
    "import numpy as np\n",
    "\n",
    "array = np.array([3, 4.5, 3 + 5j, 0])\n",
    "print (array)\n",
    "print (np.isreal(array))\n",
    "print(np.iscomplex(array))\n"
   ]
  },
  {
   "cell_type": "markdown",
   "id": "488c8ac1",
   "metadata": {},
   "source": [
    "# Vectorization"
   ]
  },
  {
   "cell_type": "code",
   "execution_count": 7,
   "id": "7afa9712",
   "metadata": {},
   "outputs": [
    {
     "name": "stdout",
     "output_type": "stream",
     "text": [
      "[3 4 5 6 7]\n"
     ]
    }
   ],
   "source": [
    "import numpy as np\n",
    "\n",
    "arr = np.array([1,2,3,4,5,6,7])\n",
    "print(arr[arr > 2])"
   ]
  },
  {
   "cell_type": "markdown",
   "id": "cbd59504",
   "metadata": {},
   "source": [
    "Vectorized Operations"
   ]
  },
  {
   "cell_type": "code",
   "execution_count": 16,
   "id": "253a39a5",
   "metadata": {},
   "outputs": [],
   "source": [
    "a = np.array([[1,2,3],[4,5,6],[7,8,9]])\n",
    "b = np.array([[10,11,12],[13,14,15],[16,17,18]])"
   ]
  },
  {
   "cell_type": "code",
   "execution_count": 17,
   "id": "e41230f9",
   "metadata": {},
   "outputs": [
    {
     "name": "stdout",
     "output_type": "stream",
     "text": [
      "[[11 13 15]\n",
      " [17 19 21]\n",
      " [23 25 27]]\n"
     ]
    }
   ],
   "source": [
    "print(a + b)"
   ]
  },
  {
   "cell_type": "code",
   "execution_count": 18,
   "id": "a8509498",
   "metadata": {},
   "outputs": [
    {
     "name": "stdout",
     "output_type": "stream",
     "text": [
      "[[-9 -9 -9]\n",
      " [-9 -9 -9]\n",
      " [-9 -9 -9]]\n"
     ]
    }
   ],
   "source": [
    "print(a-b)"
   ]
  },
  {
   "cell_type": "code",
   "execution_count": 19,
   "id": "95948643",
   "metadata": {},
   "outputs": [
    {
     "name": "stdout",
     "output_type": "stream",
     "text": [
      "[[ 10  22  36]\n",
      " [ 52  70  90]\n",
      " [112 136 162]]\n"
     ]
    }
   ],
   "source": [
    "print(a*b)"
   ]
  },
  {
   "cell_type": "code",
   "execution_count": 20,
   "id": "ec0f6b08",
   "metadata": {},
   "outputs": [
    {
     "name": "stdout",
     "output_type": "stream",
     "text": [
      "[[0.1        0.18181818 0.25      ]\n",
      " [0.30769231 0.35714286 0.4       ]\n",
      " [0.4375     0.47058824 0.5       ]]\n"
     ]
    }
   ],
   "source": [
    "print (a/b)"
   ]
  },
  {
   "cell_type": "code",
   "execution_count": 23,
   "id": "6cf0c127",
   "metadata": {},
   "outputs": [
    {
     "name": "stdout",
     "output_type": "stream",
     "text": [
      "[[1. 2. 3.]\n",
      " [4. 5. 6.]]\n"
     ]
    }
   ],
   "source": [
    "a = np.array([[1,4,9],[16,25,36]])\n",
    "print(np.sqrt(a))"
   ]
  },
  {
   "cell_type": "markdown",
   "id": "1baa7051",
   "metadata": {},
   "source": [
    "\n",
    "Practice usage of following aggregate functions"
   ]
  },
  {
   "cell_type": "code",
   "execution_count": 8,
   "id": "cc613408",
   "metadata": {},
   "outputs": [
    {
     "name": "stdout",
     "output_type": "stream",
     "text": [
      "[2. 2.]\n"
     ]
    }
   ],
   "source": [
    "coefficients =  np.array([1,-4,4])\n",
    "roots = np.roots(coefficients)\n",
    "print(roots)"
   ]
  },
  {
   "cell_type": "code",
   "execution_count": 24,
   "id": "1aba861a",
   "metadata": {},
   "outputs": [
    {
     "name": "stdout",
     "output_type": "stream",
     "text": [
      "True\n"
     ]
    }
   ],
   "source": [
    "a = np.array([5,6,7,8])\n",
    "b = np.array([5,6,7,8])\n",
    "print(np.array_equal(a,b))"
   ]
  },
  {
   "cell_type": "markdown",
   "id": "b3ba2341",
   "metadata": {},
   "source": [
    "# Axes Notation"
   ]
  },
  {
   "cell_type": "code",
   "execution_count": 25,
   "id": "1ac385d8",
   "metadata": {},
   "outputs": [
    {
     "name": "stdout",
     "output_type": "stream",
     "text": [
      "[ 6 30 37]\n",
      "====\n",
      "[14 59]\n",
      "====\n",
      "73\n"
     ]
    }
   ],
   "source": [
    "a = np.array ([[2,5,7],[4,25,30]])\n",
    "print(a.sum(axis=0))\n",
    "print('====')\n",
    "print(a.sum(axis=1))\n",
    "print('====')\n",
    "print(a.sum())"
   ]
  },
  {
   "cell_type": "markdown",
   "id": "5f8283fd",
   "metadata": {},
   "source": [
    "# Practice Exercise"
   ]
  },
  {
   "cell_type": "code",
   "execution_count": 22,
   "id": "a5a9eb6b",
   "metadata": {},
   "outputs": [
    {
     "name": "stdout",
     "output_type": "stream",
     "text": [
      "min price of day 1: 20\n",
      "===\n",
      "max price of day 2: 70\n",
      "===\n",
      "profit is: 50\n",
      "===\n",
      "Index at buy :  (array([0], dtype=int64), array([2], dtype=int64)) \n",
      " Index at sell :  (array([1], dtype=int64), array([2], dtype=int64))\n"
     ]
    }
   ],
   "source": [
    "# practice Exersise\n",
    "import numpy as np \n",
    "\n",
    "arr = np.array([[40, 35, 20], [21, 48, 70]])\n",
    "\n",
    "min_price = arr.min(axis=1)[0]\n",
    "print('min price of day 1:' , min_price)\n",
    "print('===')\n",
    "max_price = arr.max(axis=1) [1]\n",
    "print('max price of day 2:', max_price)\n",
    "\n",
    "\n",
    "print('===')\n",
    "profit = max_price - min_price \n",
    "print('profit is:', profit)\n",
    "\n",
    "print('===')\n",
    "\n",
    "buy_index = np.where(arr==min_price)\n",
    "sell_index = np.where(arr==max_price)\n",
    "\n",
    "print(\"Index at buy : \",buy_index,\"\\n\",\"Index at sell : \",sell_index)\n"
   ]
  },
  {
   "cell_type": "markdown",
   "id": "589b56b0",
   "metadata": {},
   "source": [
    "# Practice Exercise"
   ]
  },
  {
   "cell_type": "code",
   "execution_count": 20,
   "id": "6f58a47d",
   "metadata": {},
   "outputs": [
    {
     "name": "stdout",
     "output_type": "stream",
     "text": [
      "[[0.60702361 0.2118448  0.30721798 0.34636691 0.34268354]\n",
      " [0.52105312 0.34161791 0.71172981 0.57255952 0.66591283]\n",
      " [0.66871122 0.96237876 0.38046925 0.51359828 0.52971118]\n",
      " [0.09004406 0.09436666 0.06005161 0.12621558 0.80178743]\n",
      " [0.58088803 0.32357656 0.41037918 0.08453715 0.29826747]]\n",
      "======\n",
      "0.010273306287195472 0.9819108137798112\n"
     ]
    }
   ],
   "source": [
    "#practice Exersise\n",
    "import numpy as np\n",
    "\n",
    "x = np.random.random((5,5))\n",
    "\n",
    "print(x)\n",
    "print('======')\n",
    "z_normmin, z_normmax = z_norm.min(), z_norm.max()\n",
    "print(z_normmin,z_normmax)\n"
   ]
  },
  {
   "cell_type": "code",
   "execution_count": null,
   "id": "0b41d359",
   "metadata": {},
   "outputs": [],
   "source": []
  }
 ],
 "metadata": {
  "kernelspec": {
   "display_name": "Python 3",
   "language": "python",
   "name": "python3"
  },
  "language_info": {
   "codemirror_mode": {
    "name": "ipython",
    "version": 3
   },
   "file_extension": ".py",
   "mimetype": "text/x-python",
   "name": "python",
   "nbconvert_exporter": "python",
   "pygments_lexer": "ipython3",
   "version": "3.8.8"
  }
 },
 "nbformat": 4,
 "nbformat_minor": 5
}
