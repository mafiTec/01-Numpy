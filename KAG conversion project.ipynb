{
 "cells": [
  {
   "cell_type": "markdown",
   "id": "abaef258",
   "metadata": {},
   "source": [
    "# Project\n",
    "Path: project_data = 'KAG_Conversion_Data.csv'"
   ]
  },
  {
   "cell_type": "code",
   "execution_count": null,
   "id": "d5b346bf",
   "metadata": {},
   "outputs": [],
   "source": [
    "import numpy as np\n",
    "import pandas as pd"
   ]
  },
  {
   "cell_type": "code",
   "execution_count": 96,
   "id": "a14bbe19",
   "metadata": {},
   "outputs": [],
   "source": [
    "project_data='KAG_conversion_data.csv'"
   ]
  },
  {
   "cell_type": "code",
   "execution_count": 97,
   "id": "35997a5c",
   "metadata": {},
   "outputs": [
    {
     "name": "stdout",
     "output_type": "stream",
     "text": [
      "[['708746' '916' '103916' ... '1.429999948' '2' '1']\n",
      " ['708749' '916' '103917' ... '1.820000023' '2' '0']\n",
      " ['708771' '916' '103920' ... '0' '1' '0']\n",
      " ...\n",
      " ['1314412' '1178' '179979' ... '40.28999949' '2' '0']\n",
      " ['1314414' '1178' '179981' ... '198.7100005' '8' '2']\n",
      " ['1314415' '1178' '179982' ... '165.6099987' '5' '2']]\n"
     ]
    }
   ],
   "source": [
    "data = np.genfromtxt(project_data, delimiter=\",\", skip_header=1,dtype=str)\n",
    "print(data)\n"
   ]
  },
  {
   "cell_type": "code",
   "execution_count": 98,
   "id": "347b7262",
   "metadata": {},
   "outputs": [
    {
     "data": {
      "text/plain": [
       "(1143, 11)"
      ]
     },
     "execution_count": 98,
     "metadata": {},
     "output_type": "execute_result"
    }
   ],
   "source": [
    "data.shape"
   ]
  },
  {
   "cell_type": "code",
   "execution_count": 99,
   "id": "c92bac01",
   "metadata": {},
   "outputs": [
    {
     "name": "stdout",
     "output_type": "stream",
     "text": [
      "UNIQUE VALUES :  [1178  916  936] \n",
      "COUNT :  [625  54 464]\n"
     ]
    }
   ],
   "source": [
    "unique = np.unique(data[:,1],return_counts=True)\n",
    "unique_val = unique[0].astype(int)\n",
    "unique_count = unique[1]\n",
    "\n",
    "print(\"UNIQUE VALUES : \",unique_val,\"\\nCOUNT : \",unique_count)"
   ]
  },
  {
   "cell_type": "code",
   "execution_count": 100,
   "id": "052c0a29",
   "metadata": {},
   "outputs": [
    {
     "name": "stdout",
     "output_type": "stream",
     "text": [
      "AGE GROUPS THAT WERE TARGETED :  ['30-34' '35-39' '40-44' '45-49']\n"
     ]
    }
   ],
   "source": [
    "age_groups = np.unique(data[:,3])\n",
    "\n",
    "print(\"AGE GROUPS THAT WERE TARGETED : \",np.unique(data[:,3]))\n"
   ]
  },
  {
   "cell_type": "code",
   "execution_count": 113,
   "id": "54dfb30c",
   "metadata": {},
   "outputs": [
    {
     "name": "stdout",
     "output_type": "stream",
     "text": [
      "The avrage maxumum : ['0' '1.820000023' '103917' '16' '17861' '2' '30-34' '708749' '916' 'M']\n",
      "The avrage minmum: ['1' '1.429999948' '103916' '15' '2' '30-34' '708746' '7350' '916' 'M']\n"
     ]
    }
   ],
   "source": [
    "avg_min = np.unique(data[:,0])\n",
    "avg_max = np.unique(data[:,1])\n",
    "\n",
    "print(\"The avrage maxumum :\",np.unique(data[1]))\n",
    "print(\"The avrage minmum:\" ,np.unique(data[0]))"
   ]
  },
  {
   "cell_type": "code",
   "execution_count": 107,
   "id": "0aa1c52c",
   "metadata": {},
   "outputs": [
    {
     "name": "stdout",
     "output_type": "stream",
     "text": [
      "The maxumum numbers of click: ['1' '1.429999948' '103916' '15' '2' '30-34' '708746' '7350' '916' 'M']\n"
     ]
    }
   ],
   "source": [
    "ad_id = np.unique(data[0])\n",
    "\n",
    "print(\"The maxumum numbers of click:\",np.unique(data[0]))"
   ]
  },
  {
   "cell_type": "code",
   "execution_count": 115,
   "id": "dc27e551",
   "metadata": {},
   "outputs": [
    {
     "name": "stdout",
     "output_type": "stream",
     "text": [
      "is that maxuimum number of purchases in this disaster: ['30-34' '35-39' '40-44' '45-49']\n"
     ]
    }
   ],
   "source": [
    "ad_clicks = np.unique(data[:,3])\n",
    "\n",
    "print(\"is that maxuimum number of purchases in this disaster:\",np.unique(data[:,3]))"
   ]
  },
  {
   "cell_type": "code",
   "execution_count": 114,
   "id": "d3e3b472",
   "metadata": {},
   "outputs": [
    {
     "name": "stdout",
     "output_type": "stream",
     "text": [
      " Product having maximum number of purches: ['1178' '916' '936']\n"
     ]
    }
   ],
   "source": [
    "max_purchase = np.unique(data[:,1])\n",
    "\n",
    "print(\" Product having maximum number of purches:\", np.unique(data[:,1]))"
   ]
  },
  {
   "cell_type": "code",
   "execution_count": 54,
   "id": "4208614c",
   "metadata": {
    "scrolled": true
   },
   "outputs": [
    {
     "data": {
      "text/html": [
       "<div>\n",
       "<style scoped>\n",
       "    .dataframe tbody tr th:only-of-type {\n",
       "        vertical-align: middle;\n",
       "    }\n",
       "\n",
       "    .dataframe tbody tr th {\n",
       "        vertical-align: top;\n",
       "    }\n",
       "\n",
       "    .dataframe thead th {\n",
       "        text-align: right;\n",
       "    }\n",
       "</style>\n",
       "<table border=\"1\" class=\"dataframe\">\n",
       "  <thead>\n",
       "    <tr style=\"text-align: right;\">\n",
       "      <th></th>\n",
       "      <th>ad_id</th>\n",
       "      <th>xyz_campaign_id</th>\n",
       "      <th>fb_campaign_id</th>\n",
       "      <th>interest</th>\n",
       "      <th>Impressions</th>\n",
       "      <th>Clicks</th>\n",
       "      <th>Spent</th>\n",
       "      <th>Total_Conversion</th>\n",
       "      <th>Approved_Conversion</th>\n",
       "    </tr>\n",
       "  </thead>\n",
       "  <tbody>\n",
       "    <tr>\n",
       "      <th>count</th>\n",
       "      <td>1.143000e+03</td>\n",
       "      <td>1143.000000</td>\n",
       "      <td>1143.000000</td>\n",
       "      <td>1143.000000</td>\n",
       "      <td>1.143000e+03</td>\n",
       "      <td>1143.000000</td>\n",
       "      <td>1143.000000</td>\n",
       "      <td>1143.000000</td>\n",
       "      <td>1143.000000</td>\n",
       "    </tr>\n",
       "    <tr>\n",
       "      <th>mean</th>\n",
       "      <td>9.872611e+05</td>\n",
       "      <td>1067.382327</td>\n",
       "      <td>133783.989501</td>\n",
       "      <td>32.766404</td>\n",
       "      <td>1.867321e+05</td>\n",
       "      <td>33.390201</td>\n",
       "      <td>51.360656</td>\n",
       "      <td>2.855643</td>\n",
       "      <td>0.944007</td>\n",
       "    </tr>\n",
       "    <tr>\n",
       "      <th>std</th>\n",
       "      <td>1.939928e+05</td>\n",
       "      <td>121.629393</td>\n",
       "      <td>20500.308622</td>\n",
       "      <td>26.952131</td>\n",
       "      <td>3.127622e+05</td>\n",
       "      <td>56.892438</td>\n",
       "      <td>86.908418</td>\n",
       "      <td>4.483593</td>\n",
       "      <td>1.737708</td>\n",
       "    </tr>\n",
       "    <tr>\n",
       "      <th>min</th>\n",
       "      <td>7.087460e+05</td>\n",
       "      <td>916.000000</td>\n",
       "      <td>103916.000000</td>\n",
       "      <td>2.000000</td>\n",
       "      <td>8.700000e+01</td>\n",
       "      <td>0.000000</td>\n",
       "      <td>0.000000</td>\n",
       "      <td>0.000000</td>\n",
       "      <td>0.000000</td>\n",
       "    </tr>\n",
       "    <tr>\n",
       "      <th>25%</th>\n",
       "      <td>7.776325e+05</td>\n",
       "      <td>936.000000</td>\n",
       "      <td>115716.000000</td>\n",
       "      <td>16.000000</td>\n",
       "      <td>6.503500e+03</td>\n",
       "      <td>1.000000</td>\n",
       "      <td>1.480000</td>\n",
       "      <td>1.000000</td>\n",
       "      <td>0.000000</td>\n",
       "    </tr>\n",
       "    <tr>\n",
       "      <th>50%</th>\n",
       "      <td>1.121185e+06</td>\n",
       "      <td>1178.000000</td>\n",
       "      <td>144549.000000</td>\n",
       "      <td>25.000000</td>\n",
       "      <td>5.150900e+04</td>\n",
       "      <td>8.000000</td>\n",
       "      <td>12.370000</td>\n",
       "      <td>1.000000</td>\n",
       "      <td>1.000000</td>\n",
       "    </tr>\n",
       "    <tr>\n",
       "      <th>75%</th>\n",
       "      <td>1.121804e+06</td>\n",
       "      <td>1178.000000</td>\n",
       "      <td>144657.500000</td>\n",
       "      <td>31.000000</td>\n",
       "      <td>2.217690e+05</td>\n",
       "      <td>37.500000</td>\n",
       "      <td>60.025000</td>\n",
       "      <td>3.000000</td>\n",
       "      <td>1.000000</td>\n",
       "    </tr>\n",
       "    <tr>\n",
       "      <th>max</th>\n",
       "      <td>1.314415e+06</td>\n",
       "      <td>1178.000000</td>\n",
       "      <td>179982.000000</td>\n",
       "      <td>114.000000</td>\n",
       "      <td>3.052003e+06</td>\n",
       "      <td>421.000000</td>\n",
       "      <td>639.949998</td>\n",
       "      <td>60.000000</td>\n",
       "      <td>21.000000</td>\n",
       "    </tr>\n",
       "  </tbody>\n",
       "</table>\n",
       "</div>"
      ],
      "text/plain": [
       "              ad_id  xyz_campaign_id  fb_campaign_id     interest  \\\n",
       "count  1.143000e+03      1143.000000     1143.000000  1143.000000   \n",
       "mean   9.872611e+05      1067.382327   133783.989501    32.766404   \n",
       "std    1.939928e+05       121.629393    20500.308622    26.952131   \n",
       "min    7.087460e+05       916.000000   103916.000000     2.000000   \n",
       "25%    7.776325e+05       936.000000   115716.000000    16.000000   \n",
       "50%    1.121185e+06      1178.000000   144549.000000    25.000000   \n",
       "75%    1.121804e+06      1178.000000   144657.500000    31.000000   \n",
       "max    1.314415e+06      1178.000000   179982.000000   114.000000   \n",
       "\n",
       "        Impressions       Clicks        Spent  Total_Conversion  \\\n",
       "count  1.143000e+03  1143.000000  1143.000000       1143.000000   \n",
       "mean   1.867321e+05    33.390201    51.360656          2.855643   \n",
       "std    3.127622e+05    56.892438    86.908418          4.483593   \n",
       "min    8.700000e+01     0.000000     0.000000          0.000000   \n",
       "25%    6.503500e+03     1.000000     1.480000          1.000000   \n",
       "50%    5.150900e+04     8.000000    12.370000          1.000000   \n",
       "75%    2.217690e+05    37.500000    60.025000          3.000000   \n",
       "max    3.052003e+06   421.000000   639.949998         60.000000   \n",
       "\n",
       "       Approved_Conversion  \n",
       "count          1143.000000  \n",
       "mean              0.944007  \n",
       "std               1.737708  \n",
       "min               0.000000  \n",
       "25%               0.000000  \n",
       "50%               1.000000  \n",
       "75%               1.000000  \n",
       "max              21.000000  "
      ]
     },
     "execution_count": 54,
     "metadata": {},
     "output_type": "execute_result"
    }
   ],
   "source": [
    "df.describe()"
   ]
  },
  {
   "cell_type": "code",
   "execution_count": null,
   "id": "d197aaff",
   "metadata": {},
   "outputs": [],
   "source": []
  },
  {
   "cell_type": "code",
   "execution_count": null,
   "id": "4853515c",
   "metadata": {},
   "outputs": [],
   "source": []
  },
  {
   "cell_type": "code",
   "execution_count": null,
   "id": "b2a5667c",
   "metadata": {},
   "outputs": [],
   "source": []
  },
  {
   "cell_type": "code",
   "execution_count": 55,
   "id": "421dbbcf",
   "metadata": {},
   "outputs": [
    {
     "data": {
      "text/plain": [
       "0       30-34\n",
       "1       30-34\n",
       "2       30-34\n",
       "3       30-34\n",
       "4       30-34\n",
       "        ...  \n",
       "1138    45-49\n",
       "1139    45-49\n",
       "1140    45-49\n",
       "1141    45-49\n",
       "1142    45-49\n",
       "Name: age, Length: 1143, dtype: object"
      ]
     },
     "execution_count": 55,
     "metadata": {},
     "output_type": "execute_result"
    }
   ],
   "source": [
    "df.age"
   ]
  },
  {
   "cell_type": "code",
   "execution_count": 63,
   "id": "0231695c",
   "metadata": {},
   "outputs": [
    {
     "data": {
      "text/plain": [
       "array(['campaign_a', 'campaign_b', 'campaign_c'], dtype=object)"
      ]
     },
     "execution_count": 63,
     "metadata": {},
     "output_type": "execute_result"
    }
   ],
   "source": [
    "df[\"xyz_campaign_id\"].unique()"
   ]
  },
  {
   "cell_type": "code",
   "execution_count": 60,
   "id": "dcd40df0",
   "metadata": {},
   "outputs": [
    {
     "data": {
      "text/html": [
       "<div>\n",
       "<style scoped>\n",
       "    .dataframe tbody tr th:only-of-type {\n",
       "        vertical-align: middle;\n",
       "    }\n",
       "\n",
       "    .dataframe tbody tr th {\n",
       "        vertical-align: top;\n",
       "    }\n",
       "\n",
       "    .dataframe thead th {\n",
       "        text-align: right;\n",
       "    }\n",
       "</style>\n",
       "<table border=\"1\" class=\"dataframe\">\n",
       "  <thead>\n",
       "    <tr style=\"text-align: right;\">\n",
       "      <th></th>\n",
       "      <th>ad_id</th>\n",
       "      <th>xyz_campaign_id</th>\n",
       "      <th>fb_campaign_id</th>\n",
       "      <th>age</th>\n",
       "      <th>gender</th>\n",
       "      <th>interest</th>\n",
       "      <th>Impressions</th>\n",
       "      <th>Clicks</th>\n",
       "      <th>Spent</th>\n",
       "      <th>Total_Conversion</th>\n",
       "      <th>Approved_Conversion</th>\n",
       "    </tr>\n",
       "  </thead>\n",
       "  <tbody>\n",
       "    <tr>\n",
       "      <th>0</th>\n",
       "      <td>708746</td>\n",
       "      <td>campaign_a</td>\n",
       "      <td>103916</td>\n",
       "      <td>30-34</td>\n",
       "      <td>M</td>\n",
       "      <td>15</td>\n",
       "      <td>7350</td>\n",
       "      <td>1</td>\n",
       "      <td>1.43</td>\n",
       "      <td>2</td>\n",
       "      <td>1</td>\n",
       "    </tr>\n",
       "    <tr>\n",
       "      <th>1</th>\n",
       "      <td>708749</td>\n",
       "      <td>campaign_a</td>\n",
       "      <td>103917</td>\n",
       "      <td>30-34</td>\n",
       "      <td>M</td>\n",
       "      <td>16</td>\n",
       "      <td>17861</td>\n",
       "      <td>2</td>\n",
       "      <td>1.82</td>\n",
       "      <td>2</td>\n",
       "      <td>0</td>\n",
       "    </tr>\n",
       "    <tr>\n",
       "      <th>2</th>\n",
       "      <td>708771</td>\n",
       "      <td>campaign_a</td>\n",
       "      <td>103920</td>\n",
       "      <td>30-34</td>\n",
       "      <td>M</td>\n",
       "      <td>20</td>\n",
       "      <td>693</td>\n",
       "      <td>0</td>\n",
       "      <td>0.00</td>\n",
       "      <td>1</td>\n",
       "      <td>0</td>\n",
       "    </tr>\n",
       "    <tr>\n",
       "      <th>3</th>\n",
       "      <td>708815</td>\n",
       "      <td>campaign_a</td>\n",
       "      <td>103928</td>\n",
       "      <td>30-34</td>\n",
       "      <td>M</td>\n",
       "      <td>28</td>\n",
       "      <td>4259</td>\n",
       "      <td>1</td>\n",
       "      <td>1.25</td>\n",
       "      <td>1</td>\n",
       "      <td>0</td>\n",
       "    </tr>\n",
       "    <tr>\n",
       "      <th>4</th>\n",
       "      <td>708818</td>\n",
       "      <td>campaign_a</td>\n",
       "      <td>103928</td>\n",
       "      <td>30-34</td>\n",
       "      <td>M</td>\n",
       "      <td>28</td>\n",
       "      <td>4133</td>\n",
       "      <td>1</td>\n",
       "      <td>1.29</td>\n",
       "      <td>1</td>\n",
       "      <td>1</td>\n",
       "    </tr>\n",
       "  </tbody>\n",
       "</table>\n",
       "</div>"
      ],
      "text/plain": [
       "    ad_id xyz_campaign_id  fb_campaign_id    age gender  interest  \\\n",
       "0  708746      campaign_a          103916  30-34      M        15   \n",
       "1  708749      campaign_a          103917  30-34      M        16   \n",
       "2  708771      campaign_a          103920  30-34      M        20   \n",
       "3  708815      campaign_a          103928  30-34      M        28   \n",
       "4  708818      campaign_a          103928  30-34      M        28   \n",
       "\n",
       "   Impressions  Clicks  Spent  Total_Conversion  Approved_Conversion  \n",
       "0         7350       1   1.43                 2                    1  \n",
       "1        17861       2   1.82                 2                    0  \n",
       "2          693       0   0.00                 1                    0  \n",
       "3         4259       1   1.25                 1                    0  \n",
       "4         4133       1   1.29                 1                    1  "
      ]
     },
     "execution_count": 60,
     "metadata": {},
     "output_type": "execute_result"
    }
   ],
   "source": [
    "df.head()"
   ]
  },
  {
   "cell_type": "code",
   "execution_count": 45,
   "id": "4d8c1163",
   "metadata": {},
   "outputs": [],
   "source": [
    "a=[]\n",
    "b=[]\n",
    "c=[]\n",
    "for i,j,k in zip(df.xyz_campaign_id, df.fb_campaign_id, df.Approved_Conversion):\n",
    "    if i==\"campaign_c\":\n",
    "      a.append(i),b.append(j),c.append(k)"
   ]
  },
  {
   "cell_type": "code",
   "execution_count": 18,
   "id": "d2ca8b73",
   "metadata": {},
   "outputs": [
    {
     "data": {
      "text/html": [
       "<div>\n",
       "<style scoped>\n",
       "    .dataframe tbody tr th:only-of-type {\n",
       "        vertical-align: middle;\n",
       "    }\n",
       "\n",
       "    .dataframe tbody tr th {\n",
       "        vertical-align: top;\n",
       "    }\n",
       "\n",
       "    .dataframe thead th {\n",
       "        text-align: right;\n",
       "    }\n",
       "</style>\n",
       "<table border=\"1\" class=\"dataframe\">\n",
       "  <thead>\n",
       "    <tr style=\"text-align: right;\">\n",
       "      <th></th>\n",
       "      <th>campaign_name</th>\n",
       "      <th>fb_campaign_id</th>\n",
       "      <th>Approved_Conversion</th>\n",
       "    </tr>\n",
       "  </thead>\n",
       "  <tbody>\n",
       "    <tr>\n",
       "      <th>0</th>\n",
       "      <td>campaign_c</td>\n",
       "      <td>144531</td>\n",
       "      <td>14</td>\n",
       "    </tr>\n",
       "    <tr>\n",
       "      <th>1</th>\n",
       "      <td>campaign_c</td>\n",
       "      <td>144531</td>\n",
       "      <td>5</td>\n",
       "    </tr>\n",
       "    <tr>\n",
       "      <th>2</th>\n",
       "      <td>campaign_c</td>\n",
       "      <td>144531</td>\n",
       "      <td>1</td>\n",
       "    </tr>\n",
       "    <tr>\n",
       "      <th>3</th>\n",
       "      <td>campaign_c</td>\n",
       "      <td>144531</td>\n",
       "      <td>2</td>\n",
       "    </tr>\n",
       "    <tr>\n",
       "      <th>4</th>\n",
       "      <td>campaign_c</td>\n",
       "      <td>144531</td>\n",
       "      <td>2</td>\n",
       "    </tr>\n",
       "  </tbody>\n",
       "</table>\n",
       "</div>"
      ],
      "text/plain": [
       "  campaign_name  fb_campaign_id  Approved_Conversion\n",
       "0    campaign_c          144531                   14\n",
       "1    campaign_c          144531                    5\n",
       "2    campaign_c          144531                    1\n",
       "3    campaign_c          144531                    2\n",
       "4    campaign_c          144531                    2"
      ]
     },
     "execution_count": 18,
     "metadata": {},
     "output_type": "execute_result"
    }
   ],
   "source": [
    "d={'campaign_name':a, 'fb_campaign_id':b, 'Approved_Conversion':c}     \n",
    "campaign_c=pd.DataFrame(d)\n",
    "campaign_c.head()"
   ]
  },
  {
   "cell_type": "code",
   "execution_count": 44,
   "id": "4a4eb0dc",
   "metadata": {},
   "outputs": [],
   "source": [
    "import pandas as pd\n",
    "import numpy as np \n",
    "import seaborn as sns"
   ]
  },
  {
   "cell_type": "code",
   "execution_count": 20,
   "id": "9b9a3e87",
   "metadata": {},
   "outputs": [],
   "source": [
    "data = pd.read_csv('KAG_conversion_data.csv') \n"
   ]
  },
  {
   "cell_type": "code",
   "execution_count": 21,
   "id": "3899f980",
   "metadata": {},
   "outputs": [
    {
     "data": {
      "text/html": [
       "<div>\n",
       "<style scoped>\n",
       "    .dataframe tbody tr th:only-of-type {\n",
       "        vertical-align: middle;\n",
       "    }\n",
       "\n",
       "    .dataframe tbody tr th {\n",
       "        vertical-align: top;\n",
       "    }\n",
       "\n",
       "    .dataframe thead th {\n",
       "        text-align: right;\n",
       "    }\n",
       "</style>\n",
       "<table border=\"1\" class=\"dataframe\">\n",
       "  <thead>\n",
       "    <tr style=\"text-align: right;\">\n",
       "      <th></th>\n",
       "      <th>ad_id</th>\n",
       "      <th>xyz_campaign_id</th>\n",
       "      <th>fb_campaign_id</th>\n",
       "      <th>age</th>\n",
       "      <th>gender</th>\n",
       "      <th>interest</th>\n",
       "      <th>Impressions</th>\n",
       "      <th>Clicks</th>\n",
       "      <th>Spent</th>\n",
       "      <th>Total_Conversion</th>\n",
       "      <th>Approved_Conversion</th>\n",
       "    </tr>\n",
       "  </thead>\n",
       "  <tbody>\n",
       "    <tr>\n",
       "      <th>0</th>\n",
       "      <td>708746</td>\n",
       "      <td>916</td>\n",
       "      <td>103916</td>\n",
       "      <td>30-34</td>\n",
       "      <td>M</td>\n",
       "      <td>15</td>\n",
       "      <td>7350</td>\n",
       "      <td>1</td>\n",
       "      <td>1.43</td>\n",
       "      <td>2</td>\n",
       "      <td>1</td>\n",
       "    </tr>\n",
       "    <tr>\n",
       "      <th>1</th>\n",
       "      <td>708749</td>\n",
       "      <td>916</td>\n",
       "      <td>103917</td>\n",
       "      <td>30-34</td>\n",
       "      <td>M</td>\n",
       "      <td>16</td>\n",
       "      <td>17861</td>\n",
       "      <td>2</td>\n",
       "      <td>1.82</td>\n",
       "      <td>2</td>\n",
       "      <td>0</td>\n",
       "    </tr>\n",
       "    <tr>\n",
       "      <th>2</th>\n",
       "      <td>708771</td>\n",
       "      <td>916</td>\n",
       "      <td>103920</td>\n",
       "      <td>30-34</td>\n",
       "      <td>M</td>\n",
       "      <td>20</td>\n",
       "      <td>693</td>\n",
       "      <td>0</td>\n",
       "      <td>0.00</td>\n",
       "      <td>1</td>\n",
       "      <td>0</td>\n",
       "    </tr>\n",
       "    <tr>\n",
       "      <th>3</th>\n",
       "      <td>708815</td>\n",
       "      <td>916</td>\n",
       "      <td>103928</td>\n",
       "      <td>30-34</td>\n",
       "      <td>M</td>\n",
       "      <td>28</td>\n",
       "      <td>4259</td>\n",
       "      <td>1</td>\n",
       "      <td>1.25</td>\n",
       "      <td>1</td>\n",
       "      <td>0</td>\n",
       "    </tr>\n",
       "    <tr>\n",
       "      <th>4</th>\n",
       "      <td>708818</td>\n",
       "      <td>916</td>\n",
       "      <td>103928</td>\n",
       "      <td>30-34</td>\n",
       "      <td>M</td>\n",
       "      <td>28</td>\n",
       "      <td>4133</td>\n",
       "      <td>1</td>\n",
       "      <td>1.29</td>\n",
       "      <td>1</td>\n",
       "      <td>1</td>\n",
       "    </tr>\n",
       "  </tbody>\n",
       "</table>\n",
       "</div>"
      ],
      "text/plain": [
       "    ad_id  xyz_campaign_id  fb_campaign_id    age gender  interest  \\\n",
       "0  708746              916          103916  30-34      M        15   \n",
       "1  708749              916          103917  30-34      M        16   \n",
       "2  708771              916          103920  30-34      M        20   \n",
       "3  708815              916          103928  30-34      M        28   \n",
       "4  708818              916          103928  30-34      M        28   \n",
       "\n",
       "   Impressions  Clicks  Spent  Total_Conversion  Approved_Conversion  \n",
       "0         7350       1   1.43                 2                    1  \n",
       "1        17861       2   1.82                 2                    0  \n",
       "2          693       0   0.00                 1                    0  \n",
       "3         4259       1   1.25                 1                    0  \n",
       "4         4133       1   1.29                 1                    1  "
      ]
     },
     "execution_count": 21,
     "metadata": {},
     "output_type": "execute_result"
    }
   ],
   "source": [
    "data.head()"
   ]
  },
  {
   "cell_type": "code",
   "execution_count": 22,
   "id": "9946ce22",
   "metadata": {},
   "outputs": [
    {
     "data": {
      "text/html": [
       "<div>\n",
       "<style scoped>\n",
       "    .dataframe tbody tr th:only-of-type {\n",
       "        vertical-align: middle;\n",
       "    }\n",
       "\n",
       "    .dataframe tbody tr th {\n",
       "        vertical-align: top;\n",
       "    }\n",
       "\n",
       "    .dataframe thead th {\n",
       "        text-align: right;\n",
       "    }\n",
       "</style>\n",
       "<table border=\"1\" class=\"dataframe\">\n",
       "  <thead>\n",
       "    <tr style=\"text-align: right;\">\n",
       "      <th></th>\n",
       "      <th>ad_id</th>\n",
       "      <th>xyz_campaign_id</th>\n",
       "      <th>fb_campaign_id</th>\n",
       "      <th>interest</th>\n",
       "      <th>Impressions</th>\n",
       "      <th>Clicks</th>\n",
       "      <th>Spent</th>\n",
       "      <th>Total_Conversion</th>\n",
       "      <th>Approved_Conversion</th>\n",
       "    </tr>\n",
       "  </thead>\n",
       "  <tbody>\n",
       "    <tr>\n",
       "      <th>count</th>\n",
       "      <td>1.143000e+03</td>\n",
       "      <td>1143.000000</td>\n",
       "      <td>1143.000000</td>\n",
       "      <td>1143.000000</td>\n",
       "      <td>1.143000e+03</td>\n",
       "      <td>1143.000000</td>\n",
       "      <td>1143.000000</td>\n",
       "      <td>1143.000000</td>\n",
       "      <td>1143.000000</td>\n",
       "    </tr>\n",
       "    <tr>\n",
       "      <th>mean</th>\n",
       "      <td>9.872611e+05</td>\n",
       "      <td>1067.382327</td>\n",
       "      <td>133783.989501</td>\n",
       "      <td>32.766404</td>\n",
       "      <td>1.867321e+05</td>\n",
       "      <td>33.390201</td>\n",
       "      <td>51.360656</td>\n",
       "      <td>2.855643</td>\n",
       "      <td>0.944007</td>\n",
       "    </tr>\n",
       "    <tr>\n",
       "      <th>std</th>\n",
       "      <td>1.939928e+05</td>\n",
       "      <td>121.629393</td>\n",
       "      <td>20500.308622</td>\n",
       "      <td>26.952131</td>\n",
       "      <td>3.127622e+05</td>\n",
       "      <td>56.892438</td>\n",
       "      <td>86.908418</td>\n",
       "      <td>4.483593</td>\n",
       "      <td>1.737708</td>\n",
       "    </tr>\n",
       "    <tr>\n",
       "      <th>min</th>\n",
       "      <td>7.087460e+05</td>\n",
       "      <td>916.000000</td>\n",
       "      <td>103916.000000</td>\n",
       "      <td>2.000000</td>\n",
       "      <td>8.700000e+01</td>\n",
       "      <td>0.000000</td>\n",
       "      <td>0.000000</td>\n",
       "      <td>0.000000</td>\n",
       "      <td>0.000000</td>\n",
       "    </tr>\n",
       "    <tr>\n",
       "      <th>25%</th>\n",
       "      <td>7.776325e+05</td>\n",
       "      <td>936.000000</td>\n",
       "      <td>115716.000000</td>\n",
       "      <td>16.000000</td>\n",
       "      <td>6.503500e+03</td>\n",
       "      <td>1.000000</td>\n",
       "      <td>1.480000</td>\n",
       "      <td>1.000000</td>\n",
       "      <td>0.000000</td>\n",
       "    </tr>\n",
       "    <tr>\n",
       "      <th>50%</th>\n",
       "      <td>1.121185e+06</td>\n",
       "      <td>1178.000000</td>\n",
       "      <td>144549.000000</td>\n",
       "      <td>25.000000</td>\n",
       "      <td>5.150900e+04</td>\n",
       "      <td>8.000000</td>\n",
       "      <td>12.370000</td>\n",
       "      <td>1.000000</td>\n",
       "      <td>1.000000</td>\n",
       "    </tr>\n",
       "    <tr>\n",
       "      <th>75%</th>\n",
       "      <td>1.121804e+06</td>\n",
       "      <td>1178.000000</td>\n",
       "      <td>144657.500000</td>\n",
       "      <td>31.000000</td>\n",
       "      <td>2.217690e+05</td>\n",
       "      <td>37.500000</td>\n",
       "      <td>60.025000</td>\n",
       "      <td>3.000000</td>\n",
       "      <td>1.000000</td>\n",
       "    </tr>\n",
       "    <tr>\n",
       "      <th>max</th>\n",
       "      <td>1.314415e+06</td>\n",
       "      <td>1178.000000</td>\n",
       "      <td>179982.000000</td>\n",
       "      <td>114.000000</td>\n",
       "      <td>3.052003e+06</td>\n",
       "      <td>421.000000</td>\n",
       "      <td>639.949998</td>\n",
       "      <td>60.000000</td>\n",
       "      <td>21.000000</td>\n",
       "    </tr>\n",
       "  </tbody>\n",
       "</table>\n",
       "</div>"
      ],
      "text/plain": [
       "              ad_id  xyz_campaign_id  fb_campaign_id     interest  \\\n",
       "count  1.143000e+03      1143.000000     1143.000000  1143.000000   \n",
       "mean   9.872611e+05      1067.382327   133783.989501    32.766404   \n",
       "std    1.939928e+05       121.629393    20500.308622    26.952131   \n",
       "min    7.087460e+05       916.000000   103916.000000     2.000000   \n",
       "25%    7.776325e+05       936.000000   115716.000000    16.000000   \n",
       "50%    1.121185e+06      1178.000000   144549.000000    25.000000   \n",
       "75%    1.121804e+06      1178.000000   144657.500000    31.000000   \n",
       "max    1.314415e+06      1178.000000   179982.000000   114.000000   \n",
       "\n",
       "        Impressions       Clicks        Spent  Total_Conversion  \\\n",
       "count  1.143000e+03  1143.000000  1143.000000       1143.000000   \n",
       "mean   1.867321e+05    33.390201    51.360656          2.855643   \n",
       "std    3.127622e+05    56.892438    86.908418          4.483593   \n",
       "min    8.700000e+01     0.000000     0.000000          0.000000   \n",
       "25%    6.503500e+03     1.000000     1.480000          1.000000   \n",
       "50%    5.150900e+04     8.000000    12.370000          1.000000   \n",
       "75%    2.217690e+05    37.500000    60.025000          3.000000   \n",
       "max    3.052003e+06   421.000000   639.949998         60.000000   \n",
       "\n",
       "       Approved_Conversion  \n",
       "count          1143.000000  \n",
       "mean              0.944007  \n",
       "std               1.737708  \n",
       "min               0.000000  \n",
       "25%               0.000000  \n",
       "50%               1.000000  \n",
       "75%               1.000000  \n",
       "max              21.000000  "
      ]
     },
     "execution_count": 22,
     "metadata": {},
     "output_type": "execute_result"
    }
   ],
   "source": [
    "data.describe()"
   ]
  },
  {
   "cell_type": "code",
   "execution_count": 23,
   "id": "b993978b",
   "metadata": {},
   "outputs": [
    {
     "data": {
      "text/plain": [
       "array(['M', 'F'], dtype=object)"
      ]
     },
     "execution_count": 23,
     "metadata": {},
     "output_type": "execute_result"
    }
   ],
   "source": [
    "data.gender.unique()"
   ]
  },
  {
   "cell_type": "code",
   "execution_count": 24,
   "id": "bc8577c5",
   "metadata": {},
   "outputs": [
    {
     "data": {
      "text/plain": [
       "40"
      ]
     },
     "execution_count": 24,
     "metadata": {},
     "output_type": "execute_result"
    }
   ],
   "source": [
    "data.interest.value_counts().count()"
   ]
  },
  {
   "cell_type": "code",
   "execution_count": 25,
   "id": "2913d03d",
   "metadata": {},
   "outputs": [
    {
     "data": {
      "text/plain": [
       "3"
      ]
     },
     "execution_count": 25,
     "metadata": {},
     "output_type": "execute_result"
    }
   ],
   "source": [
    "data.xyz_campaign_id.value_counts().count()"
   ]
  },
  {
   "cell_type": "code",
   "execution_count": 26,
   "id": "3c996162",
   "metadata": {},
   "outputs": [
    {
     "name": "stdout",
     "output_type": "stream",
     "text": [
      "<class 'pandas.core.frame.DataFrame'>\n",
      "RangeIndex: 1143 entries, 0 to 1142\n",
      "Data columns (total 11 columns):\n",
      " #   Column               Non-Null Count  Dtype  \n",
      "---  ------               --------------  -----  \n",
      " 0   ad_id                1143 non-null   int64  \n",
      " 1   xyz_campaign_id      1143 non-null   int64  \n",
      " 2   fb_campaign_id       1143 non-null   int64  \n",
      " 3   age                  1143 non-null   object \n",
      " 4   gender               1143 non-null   object \n",
      " 5   interest             1143 non-null   int64  \n",
      " 6   Impressions          1143 non-null   int64  \n",
      " 7   Clicks               1143 non-null   int64  \n",
      " 8   Spent                1143 non-null   float64\n",
      " 9   Total_Conversion     1143 non-null   int64  \n",
      " 10  Approved_Conversion  1143 non-null   int64  \n",
      "dtypes: float64(1), int64(8), object(2)\n",
      "memory usage: 98.4+ KB\n"
     ]
    }
   ],
   "source": [
    "data.info()"
   ]
  },
  {
   "cell_type": "code",
   "execution_count": 27,
   "id": "8144a32b",
   "metadata": {},
   "outputs": [
    {
     "data": {
      "text/plain": [
       "ad_id                    int64\n",
       "xyz_campaign_id          int64\n",
       "fb_campaign_id           int64\n",
       "age                     object\n",
       "gender                  object\n",
       "interest                object\n",
       "Impressions              int64\n",
       "Clicks                   int64\n",
       "Spent                  float64\n",
       "Total_Conversion         int64\n",
       "Approved_Conversion      int64\n",
       "dtype: object"
      ]
     },
     "execution_count": 27,
     "metadata": {},
     "output_type": "execute_result"
    }
   ],
   "source": [
    "data.astype({'interest': 'object'}).dtypes"
   ]
  },
  {
   "cell_type": "code",
   "execution_count": 28,
   "id": "5ca9314b",
   "metadata": {},
   "outputs": [
    {
     "data": {
      "text/plain": [
       "array(['30-34', '35-39', '40-44', '45-49'], dtype=object)"
      ]
     },
     "execution_count": 28,
     "metadata": {},
     "output_type": "execute_result"
    }
   ],
   "source": [
    "data.age.unique()"
   ]
  },
  {
   "cell_type": "code",
   "execution_count": 29,
   "id": "3057709a",
   "metadata": {},
   "outputs": [
    {
     "data": {
      "text/plain": [
       "array([ 2,  1,  4,  3,  0,  5, 28, 13, 11, 24, 60,  7, 40, 26,  6, 20,  9,\n",
       "       23, 22, 31, 10,  8, 17, 15, 16, 19, 38, 12, 14, 21, 18, 30],\n",
       "      dtype=int64)"
      ]
     },
     "execution_count": 29,
     "metadata": {},
     "output_type": "execute_result"
    }
   ],
   "source": [
    "data.Total_Conversion.unique()"
   ]
  },
  {
   "cell_type": "code",
   "execution_count": 30,
   "id": "a5c86ddd",
   "metadata": {},
   "outputs": [],
   "source": [
    "data.set_index('ad_id',inplace=True)"
   ]
  },
  {
   "cell_type": "code",
   "execution_count": 31,
   "id": "cf3d5812",
   "metadata": {},
   "outputs": [
    {
     "data": {
      "text/plain": [
       "Index(['xyz_campaign_id', 'fb_campaign_id', 'age', 'gender', 'interest',\n",
       "       'Impressions', 'Clicks', 'Spent', 'Total_Conversion',\n",
       "       'Approved_Conversion'],\n",
       "      dtype='object')"
      ]
     },
     "execution_count": 31,
     "metadata": {},
     "output_type": "execute_result"
    }
   ],
   "source": [
    "data.columns"
   ]
  },
  {
   "cell_type": "code",
   "execution_count": 32,
   "id": "54985639",
   "metadata": {},
   "outputs": [
    {
     "data": {
      "text/plain": [
       "0        708746\n",
       "1        708749\n",
       "2        708771\n",
       "3        708815\n",
       "4        708818\n",
       "         ...   \n",
       "1138    1314410\n",
       "1139    1314411\n",
       "1140    1314412\n",
       "1141    1314414\n",
       "1142    1314415\n",
       "Name: ad_id, Length: 1143, dtype: int64"
      ]
     },
     "execution_count": 32,
     "metadata": {},
     "output_type": "execute_result"
    }
   ],
   "source": [
    "df.ad_id"
   ]
  },
  {
   "cell_type": "code",
   "execution_count": 33,
   "id": "1f79e272",
   "metadata": {},
   "outputs": [
    {
     "data": {
      "text/plain": [
       "0       campaign_a\n",
       "1       campaign_a\n",
       "2       campaign_a\n",
       "3       campaign_a\n",
       "4       campaign_a\n",
       "           ...    \n",
       "1138    campaign_c\n",
       "1139    campaign_c\n",
       "1140    campaign_c\n",
       "1141    campaign_c\n",
       "1142    campaign_c\n",
       "Name: xyz_campaign_id, Length: 1143, dtype: object"
      ]
     },
     "execution_count": 33,
     "metadata": {},
     "output_type": "execute_result"
    }
   ],
   "source": [
    "df.xyz_campaign_id"
   ]
  },
  {
   "cell_type": "code",
   "execution_count": 34,
   "id": "6a0fcc09",
   "metadata": {},
   "outputs": [
    {
     "data": {
      "text/plain": [
       "0       103916\n",
       "1       103917\n",
       "2       103920\n",
       "3       103928\n",
       "4       103928\n",
       "         ...  \n",
       "1138    179977\n",
       "1139    179978\n",
       "1140    179979\n",
       "1141    179981\n",
       "1142    179982\n",
       "Name: fb_campaign_id, Length: 1143, dtype: int64"
      ]
     },
     "execution_count": 34,
     "metadata": {},
     "output_type": "execute_result"
    }
   ],
   "source": [
    "df.fb_campaign_id"
   ]
  },
  {
   "cell_type": "code",
   "execution_count": 35,
   "id": "d9f98841",
   "metadata": {},
   "outputs": [
    {
     "data": {
      "text/plain": [
       "0       30-34\n",
       "1       30-34\n",
       "2       30-34\n",
       "3       30-34\n",
       "4       30-34\n",
       "        ...  \n",
       "1138    45-49\n",
       "1139    45-49\n",
       "1140    45-49\n",
       "1141    45-49\n",
       "1142    45-49\n",
       "Name: age, Length: 1143, dtype: object"
      ]
     },
     "execution_count": 35,
     "metadata": {},
     "output_type": "execute_result"
    }
   ],
   "source": [
    "df.age"
   ]
  },
  {
   "cell_type": "code",
   "execution_count": 36,
   "id": "ad411502",
   "metadata": {},
   "outputs": [
    {
     "data": {
      "text/plain": [
       "0       M\n",
       "1       M\n",
       "2       M\n",
       "3       M\n",
       "4       M\n",
       "       ..\n",
       "1138    F\n",
       "1139    F\n",
       "1140    F\n",
       "1141    F\n",
       "1142    F\n",
       "Name: gender, Length: 1143, dtype: object"
      ]
     },
     "execution_count": 36,
     "metadata": {},
     "output_type": "execute_result"
    }
   ],
   "source": [
    "df.gender"
   ]
  },
  {
   "cell_type": "code",
   "execution_count": 37,
   "id": "120a62ad",
   "metadata": {},
   "outputs": [
    {
     "data": {
      "text/plain": [
       "0        15\n",
       "1        16\n",
       "2        20\n",
       "3        28\n",
       "4        28\n",
       "       ... \n",
       "1138    109\n",
       "1139    110\n",
       "1140    111\n",
       "1141    113\n",
       "1142    114\n",
       "Name: interest, Length: 1143, dtype: int64"
      ]
     },
     "execution_count": 37,
     "metadata": {},
     "output_type": "execute_result"
    }
   ],
   "source": [
    "df.interest"
   ]
  },
  {
   "cell_type": "code",
   "execution_count": 38,
   "id": "a03c9639",
   "metadata": {},
   "outputs": [
    {
     "data": {
      "text/plain": [
       "(1143, 11)"
      ]
     },
     "execution_count": 38,
     "metadata": {},
     "output_type": "execute_result"
    }
   ],
   "source": [
    "df.shape"
   ]
  },
  {
   "cell_type": "code",
   "execution_count": 39,
   "id": "32ef8116",
   "metadata": {},
   "outputs": [
    {
     "data": {
      "text/plain": [
       "0          7350\n",
       "1         17861\n",
       "2           693\n",
       "3          4259\n",
       "4          4133\n",
       "         ...   \n",
       "1138    1129773\n",
       "1139     637549\n",
       "1140     151531\n",
       "1141     790253\n",
       "1142     513161\n",
       "Name: Impressions, Length: 1143, dtype: int64"
      ]
     },
     "execution_count": 39,
     "metadata": {},
     "output_type": "execute_result"
    }
   ],
   "source": [
    "df.Impressions "
   ]
  },
  {
   "cell_type": "code",
   "execution_count": 40,
   "id": "0708dbe3",
   "metadata": {},
   "outputs": [
    {
     "data": {
      "text/plain": [
       "0         1\n",
       "1         2\n",
       "2         0\n",
       "3         1\n",
       "4         1\n",
       "       ... \n",
       "1138    252\n",
       "1139    120\n",
       "1140     28\n",
       "1141    135\n",
       "1142    114\n",
       "Name: Clicks, Length: 1143, dtype: int64"
      ]
     },
     "execution_count": 40,
     "metadata": {},
     "output_type": "execute_result"
    }
   ],
   "source": [
    "df.Clicks "
   ]
  },
  {
   "cell_type": "code",
   "execution_count": 41,
   "id": "9817b8fa",
   "metadata": {},
   "outputs": [
    {
     "data": {
      "text/plain": [
       "0         1.430000\n",
       "1         1.820000\n",
       "2         0.000000\n",
       "3         1.250000\n",
       "4         1.290000\n",
       "           ...    \n",
       "1138    358.189997\n",
       "1139    173.880003\n",
       "1140     40.289999\n",
       "1141    198.710001\n",
       "1142    165.609999\n",
       "Name: Spent, Length: 1143, dtype: float64"
      ]
     },
     "execution_count": 41,
     "metadata": {},
     "output_type": "execute_result"
    }
   ],
   "source": [
    "df.Spent "
   ]
  },
  {
   "cell_type": "code",
   "execution_count": 42,
   "id": "811a855b",
   "metadata": {},
   "outputs": [
    {
     "data": {
      "text/plain": [
       "0        2\n",
       "1        2\n",
       "2        1\n",
       "3        1\n",
       "4        1\n",
       "        ..\n",
       "1138    13\n",
       "1139     3\n",
       "1140     2\n",
       "1141     8\n",
       "1142     5\n",
       "Name: Total_Conversion, Length: 1143, dtype: int64"
      ]
     },
     "execution_count": 42,
     "metadata": {},
     "output_type": "execute_result"
    }
   ],
   "source": [
    "df.Total_Conversion"
   ]
  },
  {
   "cell_type": "code",
   "execution_count": 43,
   "id": "a3b4b5c3",
   "metadata": {},
   "outputs": [
    {
     "data": {
      "text/plain": [
       "0       1\n",
       "1       0\n",
       "2       0\n",
       "3       0\n",
       "4       1\n",
       "       ..\n",
       "1138    2\n",
       "1139    0\n",
       "1140    0\n",
       "1141    2\n",
       "1142    2\n",
       "Name: Approved_Conversion, Length: 1143, dtype: int64"
      ]
     },
     "execution_count": 43,
     "metadata": {},
     "output_type": "execute_result"
    }
   ],
   "source": [
    "df.Approved_Conversion"
   ]
  },
  {
   "cell_type": "code",
   "execution_count": 1,
   "id": "384c32fb",
   "metadata": {},
   "outputs": [],
   "source": [
    "import numpy as np\n",
    "import pandas as pd\n",
    "\n",
    "import os\n",
    "for dirname, _, filenames in os.walk('/kaggle/input'):\n",
    "    for filename in filenames:\n",
    "        print(os.path.join(dirname, filename))"
   ]
  },
  {
   "cell_type": "code",
   "execution_count": 3,
   "id": "92a8b226",
   "metadata": {},
   "outputs": [],
   "source": [
    "df=pd.read_csv(\"KAG_conversion_data.csv\")"
   ]
  },
  {
   "cell_type": "code",
   "execution_count": 4,
   "id": "9fd3f0ee",
   "metadata": {},
   "outputs": [
    {
     "data": {
      "text/html": [
       "<div>\n",
       "<style scoped>\n",
       "    .dataframe tbody tr th:only-of-type {\n",
       "        vertical-align: middle;\n",
       "    }\n",
       "\n",
       "    .dataframe tbody tr th {\n",
       "        vertical-align: top;\n",
       "    }\n",
       "\n",
       "    .dataframe thead th {\n",
       "        text-align: right;\n",
       "    }\n",
       "</style>\n",
       "<table border=\"1\" class=\"dataframe\">\n",
       "  <thead>\n",
       "    <tr style=\"text-align: right;\">\n",
       "      <th></th>\n",
       "      <th>ad_id</th>\n",
       "      <th>xyz_campaign_id</th>\n",
       "      <th>fb_campaign_id</th>\n",
       "      <th>age</th>\n",
       "      <th>gender</th>\n",
       "      <th>interest</th>\n",
       "      <th>Impressions</th>\n",
       "      <th>Clicks</th>\n",
       "      <th>Spent</th>\n",
       "      <th>Total_Conversion</th>\n",
       "      <th>Approved_Conversion</th>\n",
       "    </tr>\n",
       "  </thead>\n",
       "  <tbody>\n",
       "    <tr>\n",
       "      <th>0</th>\n",
       "      <td>708746</td>\n",
       "      <td>916</td>\n",
       "      <td>103916</td>\n",
       "      <td>30-34</td>\n",
       "      <td>M</td>\n",
       "      <td>15</td>\n",
       "      <td>7350</td>\n",
       "      <td>1</td>\n",
       "      <td>1.43</td>\n",
       "      <td>2</td>\n",
       "      <td>1</td>\n",
       "    </tr>\n",
       "    <tr>\n",
       "      <th>1</th>\n",
       "      <td>708749</td>\n",
       "      <td>916</td>\n",
       "      <td>103917</td>\n",
       "      <td>30-34</td>\n",
       "      <td>M</td>\n",
       "      <td>16</td>\n",
       "      <td>17861</td>\n",
       "      <td>2</td>\n",
       "      <td>1.82</td>\n",
       "      <td>2</td>\n",
       "      <td>0</td>\n",
       "    </tr>\n",
       "    <tr>\n",
       "      <th>2</th>\n",
       "      <td>708771</td>\n",
       "      <td>916</td>\n",
       "      <td>103920</td>\n",
       "      <td>30-34</td>\n",
       "      <td>M</td>\n",
       "      <td>20</td>\n",
       "      <td>693</td>\n",
       "      <td>0</td>\n",
       "      <td>0.00</td>\n",
       "      <td>1</td>\n",
       "      <td>0</td>\n",
       "    </tr>\n",
       "    <tr>\n",
       "      <th>3</th>\n",
       "      <td>708815</td>\n",
       "      <td>916</td>\n",
       "      <td>103928</td>\n",
       "      <td>30-34</td>\n",
       "      <td>M</td>\n",
       "      <td>28</td>\n",
       "      <td>4259</td>\n",
       "      <td>1</td>\n",
       "      <td>1.25</td>\n",
       "      <td>1</td>\n",
       "      <td>0</td>\n",
       "    </tr>\n",
       "    <tr>\n",
       "      <th>4</th>\n",
       "      <td>708818</td>\n",
       "      <td>916</td>\n",
       "      <td>103928</td>\n",
       "      <td>30-34</td>\n",
       "      <td>M</td>\n",
       "      <td>28</td>\n",
       "      <td>4133</td>\n",
       "      <td>1</td>\n",
       "      <td>1.29</td>\n",
       "      <td>1</td>\n",
       "      <td>1</td>\n",
       "    </tr>\n",
       "  </tbody>\n",
       "</table>\n",
       "</div>"
      ],
      "text/plain": [
       "    ad_id  xyz_campaign_id  fb_campaign_id    age gender  interest  \\\n",
       "0  708746              916          103916  30-34      M        15   \n",
       "1  708749              916          103917  30-34      M        16   \n",
       "2  708771              916          103920  30-34      M        20   \n",
       "3  708815              916          103928  30-34      M        28   \n",
       "4  708818              916          103928  30-34      M        28   \n",
       "\n",
       "   Impressions  Clicks  Spent  Total_Conversion  Approved_Conversion  \n",
       "0         7350       1   1.43                 2                    1  \n",
       "1        17861       2   1.82                 2                    0  \n",
       "2          693       0   0.00                 1                    0  \n",
       "3         4259       1   1.25                 1                    0  \n",
       "4         4133       1   1.29                 1                    1  "
      ]
     },
     "execution_count": 4,
     "metadata": {},
     "output_type": "execute_result"
    }
   ],
   "source": [
    "df.head()"
   ]
  },
  {
   "cell_type": "code",
   "execution_count": 5,
   "id": "2904c5fa",
   "metadata": {},
   "outputs": [],
   "source": [
    "import matplotlib.pyplot as plt\n",
    "import seaborn as sns"
   ]
  },
  {
   "cell_type": "code",
   "execution_count": 6,
   "id": "9c8e4209",
   "metadata": {
    "scrolled": true
   },
   "outputs": [
    {
     "data": {
      "image/png": "[encoded data removed]",
      "text/plain": [
       "<Figure size 432x288 with 2 Axes>"
      ]
     },
     "metadata": {
      "needs_background": "light"
     },
     "output_type": "display_data"
    }
   ],
   "source": [
    "g=sns.heatmap(df[[\"Impressions\",\"Clicks\",\"Spent\",\"Total_Conversion\",\"Approved_Conversion\"]].corr(),annot=True ,fmt=\".2f\", cmap=\"coolwarm\")"
   ]
  },
  {
   "cell_type": "code",
   "execution_count": 7,
   "id": "de8b42d1",
   "metadata": {},
   "outputs": [
    {
     "data": {
      "text/plain": [
       "<AxesSubplot:xlabel='xyz_campaign_id', ylabel='Approved_Conversion'>"
      ]
     },
     "execution_count": 7,
     "metadata": {},
     "output_type": "execute_result"
    },
    {
     "data": {
      "image/png": "[encoded data removed]",
      "text/plain": [
       "<Figure size 432x288 with 1 Axes>"
      ]
     },
     "metadata": {},
     "output_type": "display_data"
    }
   ],
   "source": [
    "import seaborn as sns\n",
    "sns.set(style=\"whitegrid\")\n",
    "tips = sns.load_dataset(\"tips\")\n",
    "sns.barplot(x=df[\"xyz_campaign_id\"], y=df[\"Approved_Conversion\"], hue=df[\"age\"], data=tips)"
   ]
  },
  {
   "cell_type": "code",
   "execution_count": 8,
   "id": "1560df98",
   "metadata": {},
   "outputs": [
    {
     "data": {
      "image/png": "[encoded data removed]",
      "text/plain": [
       "<Figure size 432x288 with 1 Axes>"
      ]
     },
     "metadata": {},
     "output_type": "display_data"
    }
   ],
   "source": [
    "plt.scatter(df[\"interest\"], df[\"Approved_Conversion\"])\n",
    "plt.title(\"interest vs. Approved_Conversion\")\n",
    "plt.xlabel(\"interest\")\n",
    "plt.ylabel(\"Approved_Conversion\")\n",
    "plt.show()"
   ]
  },
  {
   "cell_type": "code",
   "execution_count": 6,
   "id": "4d939a20",
   "metadata": {},
   "outputs": [],
   "source": [
    "import pandas as pd"
   ]
  },
  {
   "cell_type": "code",
   "execution_count": 7,
   "id": "aa917171",
   "metadata": {},
   "outputs": [],
   "source": [
    "data='KAG_conversion_data.csv'"
   ]
  },
  {
   "cell_type": "code",
   "execution_count": 9,
   "id": "d6e26544",
   "metadata": {},
   "outputs": [],
   "source": [
    "data = pd.read_csv('KAG_conversion_data.csv') "
   ]
  },
  {
   "cell_type": "code",
   "execution_count": 10,
   "id": "23cdb288",
   "metadata": {},
   "outputs": [
    {
     "data": {
      "text/plain": [
       "<bound method DataFrame.info of         ad_id  xyz_campaign_id  fb_campaign_id    age gender  interest  \\\n",
       "0      708746              916          103916  30-34      M        15   \n",
       "1      708749              916          103917  30-34      M        16   \n",
       "2      708771              916          103920  30-34      M        20   \n",
       "3      708815              916          103928  30-34      M        28   \n",
       "4      708818              916          103928  30-34      M        28   \n",
       "...       ...              ...             ...    ...    ...       ...   \n",
       "1138  1314410             1178          179977  45-49      F       109   \n",
       "1139  1314411             1178          179978  45-49      F       110   \n",
       "1140  1314412             1178          179979  45-49      F       111   \n",
       "1141  1314414             1178          179981  45-49      F       113   \n",
       "1142  1314415             1178          179982  45-49      F       114   \n",
       "\n",
       "      Impressions  Clicks       Spent  Total_Conversion  Approved_Conversion  \n",
       "0            7350       1    1.430000                 2                    1  \n",
       "1           17861       2    1.820000                 2                    0  \n",
       "2             693       0    0.000000                 1                    0  \n",
       "3            4259       1    1.250000                 1                    0  \n",
       "4            4133       1    1.290000                 1                    1  \n",
       "...           ...     ...         ...               ...                  ...  \n",
       "1138      1129773     252  358.189997                13                    2  \n",
       "1139       637549     120  173.880003                 3                    0  \n",
       "1140       151531      28   40.289999                 2                    0  \n",
       "1141       790253     135  198.710001                 8                    2  \n",
       "1142       513161     114  165.609999                 5                    2  \n",
       "\n",
       "[1143 rows x 11 columns]>"
      ]
     },
     "execution_count": 10,
     "metadata": {},
     "output_type": "execute_result"
    }
   ],
   "source": [
    "data.info"
   ]
  },
  {
   "cell_type": "code",
   "execution_count": 11,
   "id": "f2549c8b",
   "metadata": {},
   "outputs": [
    {
     "data": {
      "text/plain": [
       "(1143, 11)"
      ]
     },
     "execution_count": 11,
     "metadata": {},
     "output_type": "execute_result"
    }
   ],
   "source": [
    "data.shape\n"
   ]
  },
  {
   "cell_type": "code",
   "execution_count": null,
   "id": "e3f5b567",
   "metadata": {},
   "outputs": [],
   "source": []
  }
 ],
 "metadata": {
  "kernelspec": {
   "display_name": "Python 3",
   "language": "python",
   "name": "python3"
  },
  "language_info": {
   "codemirror_mode": {
    "name": "ipython",
    "version": 3
   },
   "file_extension": ".py",
   "mimetype": "text/x-python",
   "name": "python",
   "nbconvert_exporter": "python",
   "pygments_lexer": "ipython3",
   "version": "3.8.8"
  }
 },
 "nbformat": 4,
 "nbformat_minor": 5
}
